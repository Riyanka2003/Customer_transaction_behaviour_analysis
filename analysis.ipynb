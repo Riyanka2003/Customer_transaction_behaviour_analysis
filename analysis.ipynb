{
 "cells": [
  {
   "cell_type": "markdown",
   "id": "6a69acbc",
   "metadata": {},
   "source": [
    "# Customer Transaction Behavior Analysis\n",
    "\n",
    "Analyzing transaction patterns to identify customer behavior and detect potential fraud."
   ]
  },
  {
   "cell_type": "code",
   "execution_count": null,
   "id": "53dcc70a",
   "metadata": {},
   "outputs": [],
   "source": [
    "\n",
    "import pandas as pd\n",
    "import numpy as np\n",
    "import matplotlib.pyplot as plt\n",
    "import seaborn as sns\n",
    "from sklearn.preprocessing import StandardScaler\n",
    "from sklearn.cluster import KMeans\n",
    "from sklearn.decomposition import PCA\n",
    "import warnings\n",
    "warnings.filterwarnings('ignore')\n"
   ]
  },
  {
   "cell_type": "markdown",
   "id": "d36e223d",
   "metadata": {},
   "source": [
    "## Load Dataset"
   ]
  },
  {
   "cell_type": "code",
   "execution_count": null,
   "id": "182e2a5b",
   "metadata": {},
   "outputs": [],
   "source": [
    "\n",
    "# Replace with your own file path\n",
    "df = pd.read_csv(\"transactions.csv\")\n",
    "df.head()\n"
   ]
  },
  {
   "cell_type": "markdown",
   "id": "8e9e891b",
   "metadata": {},
   "source": [
    "## Data Cleaning & Preprocessing"
   ]
  },
  {
   "cell_type": "code",
   "execution_count": null,
   "id": "8bfba8e0",
   "metadata": {},
   "outputs": [],
   "source": [
    "\n",
    "# Handle missing values\n",
    "df.dropna(inplace=True)\n",
    "\n",
    "# Convert timestamps\n",
    "df['Timestamp'] = pd.to_datetime(df['Timestamp'])\n",
    "\n",
    "# Feature engineering\n",
    "df['Hour'] = df['Timestamp'].dt.hour\n",
    "df['DayOfWeek'] = df['Timestamp'].dt.dayofweek\n",
    "\n",
    "# Normalize Transaction Amount\n",
    "scaler = StandardScaler()\n",
    "df['Amount_Scaled'] = scaler.fit_transform(df[['Transaction_Amount']])\n",
    "df.head()\n"
   ]
  },
  {
   "cell_type": "markdown",
   "id": "f713cae5",
   "metadata": {},
   "source": [
    "## K-Means Clustering"
   ]
  },
  {
   "cell_type": "code",
   "execution_count": null,
   "id": "ca5cf424",
   "metadata": {},
   "outputs": [],
   "source": [
    "\n",
    "X = df[['Amount_Scaled', 'Hour', 'DayOfWeek']]\n",
    "inertia = []\n",
    "for k in range(1, 10):\n",
    "    kmeans = KMeans(n_clusters=k, random_state=42)\n",
    "    kmeans.fit(X)\n",
    "    inertia.append(kmeans.inertia_)\n",
    "\n",
    "plt.plot(range(1, 10), inertia, marker='o')\n",
    "plt.title('Elbow Method')\n",
    "plt.xlabel('Number of Clusters')\n",
    "plt.ylabel('Inertia')\n",
    "plt.show()\n"
   ]
  },
  {
   "cell_type": "code",
   "execution_count": null,
   "id": "31f1465b",
   "metadata": {},
   "outputs": [],
   "source": [
    "\n",
    "kmeans = KMeans(n_clusters=4, random_state=42)\n",
    "df['Cluster'] = kmeans.fit_predict(X)\n",
    "df['Cluster'].value_counts()\n"
   ]
  },
  {
   "cell_type": "markdown",
   "id": "03bd926a",
   "metadata": {},
   "source": [
    "## Visualize Clusters with PCA"
   ]
  },
  {
   "cell_type": "code",
   "execution_count": null,
   "id": "ff74fbc6",
   "metadata": {},
   "outputs": [],
   "source": [
    "\n",
    "pca = PCA(n_components=2)\n",
    "principal_components = pca.fit_transform(X)\n",
    "df['PC1'] = principal_components[:, 0]\n",
    "df['PC2'] = principal_components[:, 1]\n",
    "\n",
    "plt.figure(figsize=(8, 6))\n",
    "sns.scatterplot(x='PC1', y='PC2', hue='Cluster', data=df, palette='Set2')\n",
    "plt.title('Customer Clusters Visualization')\n",
    "plt.show()\n"
   ]
  },
  {
   "cell_type": "code",
   "execution_count": null,
   "id": "0f1fd106",
   "metadata": {},
   "outputs": [],
   "source": [
    "\n",
    "df.to_csv(\"clustered_transactions.csv\", index=False)\n"
   ]
  }
 ],
 "metadata": {},
 "nbformat": 4,
 "nbformat_minor": 5
}
